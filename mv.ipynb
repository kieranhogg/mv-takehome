{
 "cells": [
  {
   "cell_type": "code",
   "execution_count": 25,
   "metadata": {},
   "outputs": [
    {
     "data": {
      "text/html": [
       "<div>\n",
       "<style scoped>\n",
       "    .dataframe tbody tr th:only-of-type {\n",
       "        vertical-align: middle;\n",
       "    }\n",
       "\n",
       "    .dataframe tbody tr th {\n",
       "        vertical-align: top;\n",
       "    }\n",
       "\n",
       "    .dataframe thead th {\n",
       "        text-align: right;\n",
       "    }\n",
       "</style>\n",
       "<table border=\"1\" class=\"dataframe\">\n",
       "  <thead>\n",
       "    <tr style=\"text-align: right;\">\n",
       "      <th></th>\n",
       "      <th>Survived</th>\n",
       "      <th>Pclass</th>\n",
       "      <th>Age</th>\n",
       "      <th>Parch</th>\n",
       "      <th>Fare</th>\n",
       "    </tr>\n",
       "  </thead>\n",
       "  <tbody>\n",
       "    <tr>\n",
       "      <th>0</th>\n",
       "      <td>0</td>\n",
       "      <td>3</td>\n",
       "      <td>22.0</td>\n",
       "      <td>0</td>\n",
       "      <td>7.2500</td>\n",
       "    </tr>\n",
       "    <tr>\n",
       "      <th>1</th>\n",
       "      <td>1</td>\n",
       "      <td>1</td>\n",
       "      <td>38.0</td>\n",
       "      <td>0</td>\n",
       "      <td>71.2833</td>\n",
       "    </tr>\n",
       "    <tr>\n",
       "      <th>2</th>\n",
       "      <td>1</td>\n",
       "      <td>3</td>\n",
       "      <td>26.0</td>\n",
       "      <td>0</td>\n",
       "      <td>7.9250</td>\n",
       "    </tr>\n",
       "    <tr>\n",
       "      <th>3</th>\n",
       "      <td>1</td>\n",
       "      <td>1</td>\n",
       "      <td>35.0</td>\n",
       "      <td>0</td>\n",
       "      <td>53.1000</td>\n",
       "    </tr>\n",
       "    <tr>\n",
       "      <th>4</th>\n",
       "      <td>0</td>\n",
       "      <td>3</td>\n",
       "      <td>35.0</td>\n",
       "      <td>0</td>\n",
       "      <td>8.0500</td>\n",
       "    </tr>\n",
       "    <tr>\n",
       "      <th>...</th>\n",
       "      <td>...</td>\n",
       "      <td>...</td>\n",
       "      <td>...</td>\n",
       "      <td>...</td>\n",
       "      <td>...</td>\n",
       "    </tr>\n",
       "    <tr>\n",
       "      <th>883</th>\n",
       "      <td>0</td>\n",
       "      <td>2</td>\n",
       "      <td>28.0</td>\n",
       "      <td>0</td>\n",
       "      <td>10.5000</td>\n",
       "    </tr>\n",
       "    <tr>\n",
       "      <th>885</th>\n",
       "      <td>0</td>\n",
       "      <td>3</td>\n",
       "      <td>39.0</td>\n",
       "      <td>5</td>\n",
       "      <td>29.1250</td>\n",
       "    </tr>\n",
       "    <tr>\n",
       "      <th>887</th>\n",
       "      <td>1</td>\n",
       "      <td>1</td>\n",
       "      <td>19.0</td>\n",
       "      <td>0</td>\n",
       "      <td>30.0000</td>\n",
       "    </tr>\n",
       "    <tr>\n",
       "      <th>889</th>\n",
       "      <td>1</td>\n",
       "      <td>1</td>\n",
       "      <td>26.0</td>\n",
       "      <td>0</td>\n",
       "      <td>30.0000</td>\n",
       "    </tr>\n",
       "    <tr>\n",
       "      <th>890</th>\n",
       "      <td>0</td>\n",
       "      <td>3</td>\n",
       "      <td>32.0</td>\n",
       "      <td>0</td>\n",
       "      <td>7.7500</td>\n",
       "    </tr>\n",
       "  </tbody>\n",
       "</table>\n",
       "<p>658 rows × 5 columns</p>\n",
       "</div>"
      ],
      "text/plain": [
       "     Survived  Pclass   Age  Parch     Fare\n",
       "0           0       3  22.0      0   7.2500\n",
       "1           1       1  38.0      0  71.2833\n",
       "2           1       3  26.0      0   7.9250\n",
       "3           1       1  35.0      0  53.1000\n",
       "4           0       3  35.0      0   8.0500\n",
       "..        ...     ...   ...    ...      ...\n",
       "883         0       2  28.0      0  10.5000\n",
       "885         0       3  39.0      5  29.1250\n",
       "887         1       1  19.0      0  30.0000\n",
       "889         1       1  26.0      0  30.0000\n",
       "890         0       3  32.0      0   7.7500\n",
       "\n",
       "[658 rows x 5 columns]"
      ]
     },
     "execution_count": 25,
     "metadata": {},
     "output_type": "execute_result"
    }
   ],
   "source": [
    "import pandas as pd\n",
    "from sklearn.model_selection import train_test_split\n",
    "from sklearn.linear_model import LogisticRegression\n",
    "from sklearn.metrics import classification_report\n",
    "from sklearn.metrics import confusion_matrix, ConfusionMatrixDisplay\n",
    "from sklearn.metrics import roc_curve\n",
    "import matplotlib.pyplot as plt\n",
    "\n",
    "# You should drop any duplicates values\n",
    "# You should drop any null values\n",
    "# You should drop PassengerId, Name, SibSp, Ticket, Cabin, Embarked, Sex columns\n",
    "\n",
    "df = pd.read_csv('titanic.csv')\n",
    "columns_to_drop = [\"PassengerId\", \"Name\", \"SibSp\", \"Ticket\", \"Cabin\", \"Embarked\", \"Sex\"]\n",
    "df = df.drop(columns=columns_to_drop)\n",
    "df = df.drop_duplicates()\n",
    "df = df.dropna(how='any')\n",
    "df\n"
   ]
  },
  {
   "cell_type": "code",
   "execution_count": 26,
   "metadata": {},
   "outputs": [
    {
     "data": {
      "text/plain": [
       "0.7200811359026369"
      ]
     },
     "execution_count": 26,
     "metadata": {},
     "output_type": "execute_result"
    }
   ],
   "source": [
    "\n",
    "# You will now build a simple Logistic Regression model using the sklearn library\n",
    "# You should use the following columns as your features Pclass, Age, Parch, Fare for your X values\n",
    "# The Y value should be the survived column\n",
    "\n",
    "X_train, X_test, y_train, y_test  = train_test_split(df.drop(\"Survived\", axis=1), df[\"Survived\"])\n",
    "model = LogisticRegression().fit(X=X_train, y=y_train)\n",
    "\n",
    "# Check the score of your model for the train values\n",
    "model.score(X=X_train, y=y_train)\n"
   ]
  },
  {
   "cell_type": "code",
   "execution_count": 27,
   "metadata": {},
   "outputs": [
    {
     "data": {
      "text/plain": [
       "0.6484848484848484"
      ]
     },
     "execution_count": 27,
     "metadata": {},
     "output_type": "execute_result"
    }
   ],
   "source": [
    "\n",
    "# Check the score of your model for the test values\n",
    "model.score(X=X_test, y=y_test)\n"
   ]
  },
  {
   "cell_type": "code",
   "execution_count": 34,
   "metadata": {},
   "outputs": [
    {
     "data": {
      "text/plain": [
       "{'Died': {'precision': 0.6893203883495146,\n",
       "  'recall': 0.7319587628865979,\n",
       "  'f1-score': 0.7100000000000001,\n",
       "  'support': 97.0},\n",
       " 'Survived': {'precision': 0.5806451612903226,\n",
       "  'recall': 0.5294117647058824,\n",
       "  'f1-score': 0.5538461538461539,\n",
       "  'support': 68.0},\n",
       " 'accuracy': 0.6484848484848484,\n",
       " 'macro avg': {'precision': 0.6349827748199186,\n",
       "  'recall': 0.6306852637962401,\n",
       "  'f1-score': 0.631923076923077,\n",
       "  'support': 165.0},\n",
       " 'weighted avg': {'precision': 0.6445330220463324,\n",
       "  'recall': 0.6484848484848484,\n",
       "  'f1-score': 0.6456456876456877,\n",
       "  'support': 165.0}}"
      ]
     },
     "execution_count": 34,
     "metadata": {},
     "output_type": "execute_result"
    }
   ],
   "source": [
    "\n",
    "# Produce a classification report for your y values\n",
    "classification_report(y_test, model.predict(X_test), output_dict=True, target_names=[\"Died\", \"Survived\"])\n"
   ]
  },
  {
   "cell_type": "code",
   "execution_count": 33,
   "metadata": {},
   "outputs": [
    {
     "data": {
      "text/plain": [
       "{'TN': 71, 'FP': 26, 'FN': 32, 'TP': 36}"
      ]
     },
     "execution_count": 33,
     "metadata": {},
     "output_type": "execute_result"
    }
   ],
   "source": [
    "\n",
    "# Produce a confusion matrix for your model\n",
    "cm = confusion_matrix(y_test, model.predict(X_test))\n",
    "{\"TN\": cm[0][0], \"FP\": cm[0][1], \"FN\": cm[1][0], \"TP\": cm[1][1]}\n"
   ]
  },
  {
   "cell_type": "code",
   "execution_count": 45,
   "metadata": {},
   "outputs": [],
   "source": [
    "\n",
    "# Plot a ROC curve for your model\n",
    "y_scores = model.predict_proba(X_test)\n",
    "y_scores = [x[1] for x in model.predict_proba(X_test)]  # just grab the probability scores\n",
    "# model.predict_proba(X_test)\n",
    "# y_scores"
   ]
  },
  {
   "cell_type": "code",
   "execution_count": 44,
   "metadata": {},
   "outputs": [
    {
     "data": {
      "image/png": "[encoded data removed]",
      "text/plain": [
       "<Figure size 640x480 with 1 Axes>"
      ]
     },
     "metadata": {},
     "output_type": "display_data"
    }
   ],
   "source": [
    "fpr, tpr, thresholds = roc_curve(y_test, y_scores)\n",
    "plt.plot(fpr, tpr)\n",
    "plt.legend([\"classifier\")\n",
    "plt.plot([0, 1])\n",
    "plt.xlabel(\"FPR\")\n",
    "plt.ylabel(\"TPR\")\n",
    "plt.title(\"ROC Curve\")\n",
    "plt.show()"
   ]
  }
 ],
 "metadata": {
  "kernelspec": {
   "display_name": ".venv",
   "language": "python",
   "name": "python3"
  },
  "language_info": {
   "codemirror_mode": {
    "name": "ipython",
    "version": 3
   },
   "file_extension": ".py",
   "mimetype": "text/x-python",
   "name": "python",
   "nbconvert_exporter": "python",
   "pygments_lexer": "ipython3",
   "version": "3.11.4"
  }
 },
 "nbformat": 4,
 "nbformat_minor": 2
}
